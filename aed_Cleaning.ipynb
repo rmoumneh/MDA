{
 "cells": [
  {
   "cell_type": "code",
   "execution_count": 1,
   "metadata": {},
   "outputs": [
    {
     "name": "stderr",
     "output_type": "stream",
     "text": [
      "C:\\Users\\rmoumneh\\AppData\\Local\\Temp\\ipykernel_16116\\4136608854.py:2: DeprecationWarning: \n",
      "Pyarrow will become a required dependency of pandas in the next major release of pandas (pandas 3.0),\n",
      "(to allow more performant data types, such as the Arrow string type, and better interoperability with other libraries)\n",
      "but was not found to be installed on your system.\n",
      "If this would cause problems for you,\n",
      "please provide us feedback at https://github.com/pandas-dev/pandas/issues/54466\n",
      "        \n",
      "  import pandas as pd\n"
     ]
    }
   ],
   "source": [
    "#Import package\n",
    "import pandas as pd\n",
    "import numpy as np\n",
    "from geopy.geocoders import Nominatim\n",
    "import matplotlib\n",
    "from geopy.distance import geodesic\n",
    "from shapely.geometry import Point, MultiPoint\n",
    "from shapely.ops import nearest_points\n",
    "from datetime import datetime, timedelta, date\n",
    "import math"
   ]
  },
  {
   "cell_type": "code",
   "execution_count": 3,
   "metadata": {},
   "outputs": [],
   "source": [
    "# - Import data -\n",
    "aed = pd.read_parquet('aed_locations.parquet.gzip')\n",
    "postal_codes_subset = pd.read_csv('postal_codes.csv', sep=',')"
   ]
  },
  {
   "cell_type": "code",
   "execution_count": 4,
   "metadata": {},
   "outputs": [
    {
     "name": "stdout",
     "output_type": "stream",
     "text": [
      "     id  type                address  number  postal_code municipality  \\\n",
      "0  13.0  None    Blvd. Fr. Roosevelt    24.0       7060.0     SOIGNIES   \n",
      "1  70.0  None        Ch. De Wégimont    76.0       4630.0      Ayeneux   \n",
      "2  71.0  None  Place Saint - Lambert     NaN       4020.0        Liège   \n",
      "3  72.0  None          Rue du Doyard     NaN       4990.0     Lierneux   \n",
      "4  73.0  None     Fond Saint Servais     NaN       4000.0        Liège   \n",
      "\n",
      "  province location public available hours  \n",
      "0  Hainaut     None      Y      None  None  \n",
      "1    Liège     None   None      None  None  \n",
      "2    Liège     None   None      None  None  \n",
      "3    Liège     None   None      None  None  \n",
      "4    Liège     None   None      None  None  \n"
     ]
    }
   ],
   "source": [
    "# AED\n",
    "print(aed.head())\n",
    "aed_cl=aed.copy()"
   ]
  },
  {
   "cell_type": "code",
   "execution_count": 6,
   "metadata": {},
   "outputs": [
    {
     "name": "stdout",
     "output_type": "stream",
     "text": [
      "     id  type                address  number  postal_code municipality  \\\n",
      "0  13.0  None    Blvd. Fr. Roosevelt    24.0       7060.0     SOIGNIES   \n",
      "1  70.0  None        Ch. De Wégimont    76.0       4630.0      Ayeneux   \n",
      "2  71.0  None  Place Saint - Lambert     NaN       4020.0        Liège   \n",
      "3  72.0  None          Rue du Doyard     NaN       4990.0     Lierneux   \n",
      "4  73.0  None     Fond Saint Servais     NaN       4000.0        Liège   \n",
      "\n",
      "  province location public available hours  \n",
      "0  Hainaut     None      Y      None  None  \n",
      "1    Liège     None   None      None  None  \n",
      "2    Liège     None   None      None  None  \n",
      "3    Liège     None   None      None  None  \n",
      "4    Liège     None   None      None  None  \n"
     ]
    }
   ],
   "source": [
    "for column in aed_cl.columns:\n",
    "    if aed_cl[column].dtype=='object':\n",
    "        aed_cl[column]=aed_cl[column].str.title().str.strip()\n",
    "    else:\n",
    "        aed_cl[column]=aed_cl[column]    \n",
    "\n",
    "aed_cl.loc[aed_cl['type'].isin(['Appareil fixe','Appareil Fixe','Appareil fixe-Vast apparaat','Vast apparaat','Vast apparaat']),'type']='Fixed'\n",
    "aed_cl.loc[aed_cl['type'].isin(['Appareil Mobile- Mobiel apparaat','M5066A']),'type']='Mobile'\n",
    "\n",
    "aed_cl['postal_code']=aed_cl['postal_code'].astype('str').str.replace('.0','')\n",
    "\n",
    "for index, value in aed.iterrows():\n",
    "    if aed_cl.iloc[index, 8] in ['J', 'Ja', 'Oui', 'Oui-Ja', 'y', 'Y']:\n",
    "        aed_cl.loc[index, 'public'] = 'Yes'\n",
    "    elif aed_cl.iloc[index, 8] in ['Non-Nee', 'N', 'Nee']:\n",
    "        aed_cl.loc[index, 'public'] = 'No'\n",
    "    else:\n",
    "        aed_cl.iloc[index, 8] = 'None'\n",
    "        \n",
    "for index, value in aed.iterrows():\n",
    "    if aed_cl.iloc[index, 9] in ['J', 'Ja', 'Oui', 'Oui-Ja', 'y', 'Y', 'oui via interphone','Accessible par toute personne présente dans l inrfastructure.','Oui-Ja \"Niet tijdens activiteiten van de wielervrienden\"']:\n",
    "        aed_cl.loc[index, 'available'] = 'Yes'\n",
    "    elif aed_cl.iloc[index, 9] in ['Non-Nee', 'N', 'Nee']:\n",
    "        aed_cl.loc[index, 'available'] = 'No'\n",
    "    elif aed_cl.iloc[index, 9] in ['09.00 - 17.00', '9.00 - 17.00', 'Nee']:\n",
    "        aed_cl.loc[index, 'available'] = '09.00 - 17.00'\n",
    "    elif aed_cl.iloc[index, 9] in ['09u-12u en op aanvraag']:\n",
    "        aed_cl.loc[index, 'available'] = '09.00 - 12.00'\n",
    "    elif aed_cl.iloc[index, 9] in ['5h00 à 25h00', 'de 5h00 à 25h00']:\n",
    "        aed_cl.loc[index, 'available'] = '05.00 - 23.59'\n",
    "    elif aed_cl.iloc[index, 9] in ['8:00 - 17:00', 'N', 'Nee']:\n",
    "        aed_cl.loc[index, 'available'] = '8:00 - 17:00'\n",
    "    elif aed_cl.iloc[index, 9] in ['16u-23u tijdens opening sporthal']:\n",
    "        aed_cl.loc[index, 'available'] = '16.00 - 23.00'\n",
    "    elif aed_cl.iloc[index, 9] in ['De 5h30 à 21h30']:\n",
    "        aed_cl.loc[index, 'available'] = '05.30 - 21.30'\n",
    "    elif aed_cl.iloc[index, 9] in ['Dispo 24/7 - sauf samedi de 12h à dimanche 20h', 'Dispo. tout le temps sauf du samedi midi au dimanche 21h']:\n",
    "        aed_cl.loc[index, 'available'] = '00.00 - 23.59'\n",
    "    elif aed_cl.iloc[index, 9] in ['Heure de bureau en semaine', 'Heures de bureau', 'Horaire d ouverture de la buvette','Pendant heures d ouverture du site',\n",
    "                                   'Pendant les heures de cours','Tijdens de kantooruren','Tijdens kantooruren','Tijdens openingsuren van het museum','enkel tijdens kantooruren',\n",
    "                                   'enkel tijdens de kantooruren (8 - 19u)','horaire d ouverture de la pharmacie','indien de site open is, volledig toegangkelijk','kantooruren',\n",
    "                                   'selon heures d ouverture d Euro-Délices','tijdens de kantooruren','tijdens de kantooruren in de week','tijdens de openingsuren','tijdens de werkuren',\n",
    "                                   'tijdens onze openingsuren, zie nr. 12','tijdens openinguren sportcentrum','tijdens werkuren','zie rooster','Heures de bureau ']:\n",
    "        aed_cl.loc[index, 'available'] = 'Working Opening Time'\n",
    "    elif aed_cl.iloc[index, 9] in ['maandag, dinsdag, donderdag, vrijdag', 'du lundi au vendredi ']: \n",
    "        aed_cl.loc[index, 'available'] = 'During Weekdays'\n",
    "    else:\n",
    "        aed_cl.iloc[index, 9] = 'None'  \n",
    "\n"
   ]
  },
  {
   "cell_type": "code",
   "execution_count": 9,
   "metadata": {},
   "outputs": [
    {
     "data": {
      "text/plain": [
       "'7060'"
      ]
     },
     "execution_count": 9,
     "metadata": {},
     "output_type": "execute_result"
    }
   ],
   "source": [
    "aed_cl.dtypes\n",
    "aed_cl['postal_code'].iloc[0]"
   ]
  },
  {
   "cell_type": "code",
   "execution_count": 12,
   "metadata": {},
   "outputs": [
    {
     "name": "stdout",
     "output_type": "stream",
     "text": [
      "0     7060\n",
      "1     4630\n",
      "2     4020\n",
      "3     4990\n",
      "4     4000\n",
      "      ... \n",
      "95    1160\n",
      "96    1200\n",
      "97    1070\n",
      "98    3290\n",
      "99    3980\n",
      "Name: postal_code, Length: 100, dtype: object\n"
     ]
    }
   ],
   "source": [
    "print(aed_cl['postal_code'].head(100))"
   ]
  },
  {
   "cell_type": "code",
   "execution_count": 13,
   "metadata": {},
   "outputs": [],
   "source": [
    "aed_cl['postal_code'] = aed_cl.apply(lambda x: float(x['postal_code']), axis=1)"
   ]
  },
  {
   "cell_type": "code",
   "execution_count": 14,
   "metadata": {},
   "outputs": [
    {
     "name": "stdout",
     "output_type": "stream",
     "text": [
      "id, column number 0\n",
      "type, column number 1\n",
      "address, column number 2\n",
      "number, column number 3\n",
      "postal_code, column number 4\n",
      "municipality, column number 5\n",
      "province, column number 6\n",
      "location, column number 7\n",
      "public, column number 8\n",
      "available, column number 9\n",
      "hours, column number 10\n",
      "postcode, column number 11\n",
      "smun_code, column number 12\n",
      "reg_code, column number 13\n",
      "prov_code, column number 14\n",
      "arr_code, column number 15\n",
      "mun_code, column number 16\n",
      "Region, column number 17\n",
      "Province, column number 18\n",
      "Arrondissement, column number 19\n",
      "Municipality, column number 20\n"
     ]
    },
    {
     "data": {
      "text/html": [
       "<div>\n",
       "<style scoped>\n",
       "    .dataframe tbody tr th:only-of-type {\n",
       "        vertical-align: middle;\n",
       "    }\n",
       "\n",
       "    .dataframe tbody tr th {\n",
       "        vertical-align: top;\n",
       "    }\n",
       "\n",
       "    .dataframe thead th {\n",
       "        text-align: right;\n",
       "    }\n",
       "</style>\n",
       "<table border=\"1\" class=\"dataframe\">\n",
       "  <thead>\n",
       "    <tr style=\"text-align: right;\">\n",
       "      <th></th>\n",
       "      <th>id</th>\n",
       "      <th>type</th>\n",
       "      <th>address</th>\n",
       "      <th>number</th>\n",
       "      <th>Region</th>\n",
       "      <th>Province</th>\n",
       "      <th>Arrondissement</th>\n",
       "      <th>Municipality</th>\n",
       "      <th>type</th>\n",
       "      <th>postal_code</th>\n",
       "      <th>public</th>\n",
       "      <th>available</th>\n",
       "      <th>hours</th>\n",
       "    </tr>\n",
       "  </thead>\n",
       "  <tbody>\n",
       "    <tr>\n",
       "      <th>0</th>\n",
       "      <td>13.0</td>\n",
       "      <td>None</td>\n",
       "      <td>Blvd. Fr. Roosevelt</td>\n",
       "      <td>24.0</td>\n",
       "      <td>Wallonia</td>\n",
       "      <td>Hainaut (le)</td>\n",
       "      <td>Soignies</td>\n",
       "      <td>Soignies</td>\n",
       "      <td>None</td>\n",
       "      <td>7060.0</td>\n",
       "      <td>Yes</td>\n",
       "      <td>None</td>\n",
       "      <td>None</td>\n",
       "    </tr>\n",
       "    <tr>\n",
       "      <th>1</th>\n",
       "      <td>70.0</td>\n",
       "      <td>None</td>\n",
       "      <td>Ch. De Wégimont</td>\n",
       "      <td>76.0</td>\n",
       "      <td>Wallonia</td>\n",
       "      <td>Liège</td>\n",
       "      <td>Liège</td>\n",
       "      <td>Soumagne</td>\n",
       "      <td>None</td>\n",
       "      <td>4630.0</td>\n",
       "      <td>None</td>\n",
       "      <td>None</td>\n",
       "      <td>None</td>\n",
       "    </tr>\n",
       "    <tr>\n",
       "      <th>2</th>\n",
       "      <td>70.0</td>\n",
       "      <td>None</td>\n",
       "      <td>Ch. De Wégimont</td>\n",
       "      <td>76.0</td>\n",
       "      <td>Wallonia</td>\n",
       "      <td>Liège</td>\n",
       "      <td>Liège</td>\n",
       "      <td>Soumagne</td>\n",
       "      <td>None</td>\n",
       "      <td>4630.0</td>\n",
       "      <td>None</td>\n",
       "      <td>None</td>\n",
       "      <td>None</td>\n",
       "    </tr>\n",
       "    <tr>\n",
       "      <th>3</th>\n",
       "      <td>71.0</td>\n",
       "      <td>None</td>\n",
       "      <td>Place Saint - Lambert</td>\n",
       "      <td>NaN</td>\n",
       "      <td>Wallonia</td>\n",
       "      <td>Liège</td>\n",
       "      <td>Liège</td>\n",
       "      <td>Liège</td>\n",
       "      <td>None</td>\n",
       "      <td>4020.0</td>\n",
       "      <td>None</td>\n",
       "      <td>None</td>\n",
       "      <td>None</td>\n",
       "    </tr>\n",
       "    <tr>\n",
       "      <th>4</th>\n",
       "      <td>72.0</td>\n",
       "      <td>None</td>\n",
       "      <td>Rue Du Doyard</td>\n",
       "      <td>NaN</td>\n",
       "      <td>Wallonia</td>\n",
       "      <td>Liège</td>\n",
       "      <td>Verviers</td>\n",
       "      <td>Lierneux</td>\n",
       "      <td>None</td>\n",
       "      <td>4990.0</td>\n",
       "      <td>None</td>\n",
       "      <td>None</td>\n",
       "      <td>None</td>\n",
       "    </tr>\n",
       "  </tbody>\n",
       "</table>\n",
       "</div>"
      ],
      "text/plain": [
       "     id  type                address  number    Region      Province  \\\n",
       "0  13.0  None    Blvd. Fr. Roosevelt    24.0  Wallonia  Hainaut (le)   \n",
       "1  70.0  None        Ch. De Wégimont    76.0  Wallonia         Liège   \n",
       "2  70.0  None        Ch. De Wégimont    76.0  Wallonia         Liège   \n",
       "3  71.0  None  Place Saint - Lambert     NaN  Wallonia         Liège   \n",
       "4  72.0  None          Rue Du Doyard     NaN  Wallonia         Liège   \n",
       "\n",
       "  Arrondissement Municipality  type  postal_code public available hours  \n",
       "0       Soignies     Soignies  None       7060.0    Yes      None  None  \n",
       "1          Liège     Soumagne  None       4630.0   None      None  None  \n",
       "2          Liège     Soumagne  None       4630.0   None      None  None  \n",
       "3          Liège        Liège  None       4020.0   None      None  None  \n",
       "4       Verviers     Lierneux  None       4990.0   None      None  None  "
      ]
     },
     "execution_count": 14,
     "metadata": {},
     "output_type": "execute_result"
    }
   ],
   "source": [
    "aed_all = pd.merge(aed_cl,postal_codes_subset, left_on = 'postal_code', right_on = 'postcode', how ='left')\n",
    "for a, b in zip(aed_all.columns, range(0,len(aed_all.columns))):\n",
    "                print(f'{a}, column number {b}')\n",
    "\n",
    "aed_subset = aed_all.iloc[:,[0,1,2,3,17,18,19,20,1,4,8,9,10]]\n",
    "aed_subset.head()"
   ]
  },
  {
   "cell_type": "code",
   "execution_count": 15,
   "metadata": {},
   "outputs": [],
   "source": [
    "# postal_codes_subset.to_csv('postal_codes.csv', index=False)\n",
    "aed_subset.to_csv('aed.csv', index=False)"
   ]
  }
 ],
 "metadata": {
  "kernelspec": {
   "display_name": "Python 3",
   "language": "python",
   "name": "python3"
  },
  "language_info": {
   "codemirror_mode": {
    "name": "ipython",
    "version": 3
   },
   "file_extension": ".py",
   "mimetype": "text/x-python",
   "name": "python",
   "nbconvert_exporter": "python",
   "pygments_lexer": "ipython3",
   "version": "3.11.3"
  }
 },
 "nbformat": 4,
 "nbformat_minor": 2
}
