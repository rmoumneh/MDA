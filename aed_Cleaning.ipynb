{
 "cells": [
  {
   "cell_type": "code",
   "execution_count": null,
   "metadata": {},
   "outputs": [],
   "source": [
    "#Import package\n",
    "import pandas as pd\n",
    "import numpy as np\n",
    "from geopy.geocoders import Nominatim\n",
    "import matplotlib\n",
    "from geopy.distance import geodesic\n",
    "from shapely.geometry import Point, MultiPoint\n",
    "from shapely.ops import nearest_points\n",
    "from datetime import datetime, timedelta, date\n",
    "import math"
   ]
  },
  {
   "cell_type": "code",
   "execution_count": null,
   "metadata": {},
   "outputs": [],
   "source": [
    "# - Import data -\n",
    "aed = pd.read_parquet('aed_locations.parquet.gzip')"
   ]
  },
  {
   "cell_type": "code",
   "execution_count": null,
   "metadata": {},
   "outputs": [],
   "source": [
    "# AED\n",
    "print(aed.head())\n",
    "aed_cl=aed.copy()\n",
    "\n",
    "for column in aed_cl.columns:\n",
    "    if aed_cl[column].dtype=='object':\n",
    "        aed_cl[column]=aed_cl[column].str.title().str.strip()\n",
    "    else:\n",
    "        aed_cl[column]=aed_cl[column]    \n",
    "\n",
    "aed_cl.loc[aed_cl['type'].isin(['Appareil fixe','Appareil Fixe','Appareil fixe-Vast apparaat','Vast apparaat','Vast apparaat']),'type']='Fixed'\n",
    "aed_cl.loc[aed_cl['type'].isin(['Appareil Mobile- Mobiel apparaat','M5066A']),'type']='Mobile'\n",
    "\n",
    "aed_cl['postal_code']=aed_cl['postal_code'].astype('str').str.replace('.0','')\n",
    "\n",
    "for index, value in aed.iterrows():\n",
    "    if aed_cl.iloc[index, 8] in ['J', 'Ja', 'Oui', 'Oui-Ja', 'y', 'Y']:\n",
    "        aed_cl.loc[index, 'public'] = 'Yes'\n",
    "    elif aed_cl.iloc[index, 8] in ['Non-Nee', 'N', 'Nee']:\n",
    "        aed_cl.loc[index, 'public'] = 'No'\n",
    "    else:\n",
    "        aed_cl.iloc[index, 8] = 'None'\n",
    "        \n",
    "for index, value in aed.iterrows():\n",
    "    if aed_cl.iloc[index, 9] in ['J', 'Ja', 'Oui', 'Oui-Ja', 'y', 'Y', 'oui via interphone','Accessible par toute personne présente dans l inrfastructure.','Oui-Ja \"Niet tijdens activiteiten van de wielervrienden\"']:\n",
    "        aed_cl.loc[index, 'available'] = 'Yes'\n",
    "    elif aed_cl.iloc[index, 9] in ['Non-Nee', 'N', 'Nee']:\n",
    "        aed_cl.loc[index, 'available'] = 'No'\n",
    "    elif aed_cl.iloc[index, 9] in ['09.00 - 17.00', '9.00 - 17.00', 'Nee']:\n",
    "        aed_cl.loc[index, 'available'] = '09.00 - 17.00'\n",
    "    elif aed_cl.iloc[index, 9] in ['09u-12u en op aanvraag']:\n",
    "        aed_cl.loc[index, 'available'] = '09.00 - 12.00'\n",
    "    elif aed_cl.iloc[index, 9] in ['5h00 à 25h00', 'de 5h00 à 25h00']:\n",
    "        aed_cl.loc[index, 'available'] = '05.00 - 23.59'\n",
    "    elif aed_cl.iloc[index, 9] in ['8:00 - 17:00', 'N', 'Nee']:\n",
    "        aed_cl.loc[index, 'available'] = '8:00 - 17:00'\n",
    "    elif aed_cl.iloc[index, 9] in ['16u-23u tijdens opening sporthal']:\n",
    "        aed_cl.loc[index, 'available'] = '16.00 - 23.00'\n",
    "    elif aed_cl.iloc[index, 9] in ['De 5h30 à 21h30']:\n",
    "        aed_cl.loc[index, 'available'] = '05.30 - 21.30'\n",
    "    elif aed_cl.iloc[index, 9] in ['Dispo 24/7 - sauf samedi de 12h à dimanche 20h', 'Dispo. tout le temps sauf du samedi midi au dimanche 21h']:\n",
    "        aed_cl.loc[index, 'available'] = '00.00 - 23.59'\n",
    "    elif aed_cl.iloc[index, 9] in ['Heure de bureau en semaine', 'Heures de bureau', 'Horaire d ouverture de la buvette','Pendant heures d ouverture du site',\n",
    "                                   'Pendant les heures de cours','Tijdens de kantooruren','Tijdens kantooruren','Tijdens openingsuren van het museum','enkel tijdens kantooruren',\n",
    "                                   'enkel tijdens de kantooruren (8 - 19u)','horaire d ouverture de la pharmacie','indien de site open is, volledig toegangkelijk','kantooruren',\n",
    "                                   'selon heures d ouverture d Euro-Délices','tijdens de kantooruren','tijdens de kantooruren in de week','tijdens de openingsuren','tijdens de werkuren',\n",
    "                                   'tijdens onze openingsuren, zie nr. 12','tijdens openinguren sportcentrum','tijdens werkuren','zie rooster','Heures de bureau ']:\n",
    "        aed_cl.loc[index, 'available'] = 'Working Opening Time'\n",
    "    elif aed_cl.iloc[index, 9] in ['maandag, dinsdag, donderdag, vrijdag', 'du lundi au vendredi ']: \n",
    "        aed_cl.loc[index, 'available'] = 'During Weekdays'\n",
    "    else:\n",
    "        aed_cl.iloc[index, 9] = 'None'  \n",
    "\n",
    "aed_all = pd.merge(aed_cl,postal_codes_subset, left_on = 'postal_code', right_on = 'postcode', how ='left')\n",
    "for a, b in zip(aed_all.columns, range(0,len(aed_all.columns))):\n",
    "                print(f'{a}, column number {b}')\n",
    "\n",
    "aed_subset = aed_all.iloc[:,[0,1,2,3,17,18,19,20,1,4,8,9,10]]\n",
    "aed_subset.head()"
   ]
  },
  {
   "cell_type": "code",
   "execution_count": null,
   "metadata": {},
   "outputs": [],
   "source": [
    "# postal_codes_subset.to_csv('postal_codes.csv', index=False)\n",
    "aed_subset.to_csv('aed.csv', index=False)"
   ]
  }
 ],
 "metadata": {
  "language_info": {
   "name": "python"
  }
 },
 "nbformat": 4,
 "nbformat_minor": 2
}
