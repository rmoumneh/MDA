{
 "cells": [
  {
   "cell_type": "code",
   "execution_count": null,
   "metadata": {},
   "outputs": [],
   "source": [
    "#Import package\n",
    "import pandas as pd\n",
    "import numpy as np\n",
    "from geopy.geocoders import Nominatim\n",
    "import matplotlib\n",
    "from geopy.distance import geodesic\n",
    "from shapely.geometry import Point, MultiPoint\n",
    "from shapely.ops import nearest_points\n",
    "from datetime import datetime, timedelta, date\n",
    "import math"
   ]
  },
  {
   "cell_type": "code",
   "execution_count": null,
   "metadata": {},
   "outputs": [],
   "source": [
    "# Import data\n",
    "postal_codes = pd.read_parquet('PostalCodesBE .parquet')"
   ]
  },
  {
   "cell_type": "code",
   "execution_count": null,
   "metadata": {},
   "outputs": [],
   "source": [
    "# Cleaining Postal Code\n",
    "postal_codes.head()\n",
    "for index, value in postal_codes.iterrows():\n",
    "    if postal_codes.at[index,'reg_name_fr'] == 'Région flamande':\n",
    "        postal_codes.at[index,'Region'] = 'Flanders'\n",
    "        postal_codes.at[index,'Province'] = postal_codes.at[index,'prov_name_nl']\n",
    "        postal_codes.at[index,'Arrondissement'] = postal_codes.at[index,'arr_name_nl']\n",
    "        postal_codes.at[index,'Municipality'] = postal_codes.at[index,'mun_name_nl']\n",
    "    elif postal_codes.at[index,'reg_name_fr'] == 'Région wallonne':\n",
    "        postal_codes.at[index,'Region'] = 'Wallonia'\n",
    "        postal_codes.at[index,'Province'] = postal_codes.at[index,'prov_name_fr']\n",
    "        postal_codes.at[index,'Arrondissement'] = postal_codes.at[index,'arr_name_fr']\n",
    "        postal_codes.at[index,'Municipality'] = postal_codes.at[index,'mun_name_fr']\n",
    "    elif postal_codes.at[index,'reg_name_fr'] == 'Région de Bruxelles-Capitale':\n",
    "        postal_codes.at[index,'Region'] = 'Brussels'\n",
    "        postal_codes.at[index,'Province'] = postal_codes.at[index,'prov_name_fr']\n",
    "        postal_codes.at[index,'Arrondissement'] = postal_codes.at[index,'arr_name_fr']\n",
    "        postal_codes.at[index,'Municipality'] = postal_codes.at[index,'mun_name_fr']\n",
    "    else:\n",
    "        postal_codes.at[index,'Region'] = 'None'\n",
    "        postal_codes.at[index,'Province'] = 'None'\n",
    "        postal_codes.at[index,'Arrondissement'] = 'None'\n",
    "        postal_codes.at[index,'Municipality'] = 'None'\n",
    "\n",
    "for a, b in zip(postal_codes.columns, range(0,len(postal_codes.columns))):\n",
    "                print(f'{a}, column number {b}')\n",
    "postal_codes_subset = postal_codes.iloc[:,[2,4,5,6,7,8,26,27,28,29]]\n",
    "postal_codes_subset.head()"
   ]
  },
  {
   "cell_type": "code",
   "execution_count": null,
   "metadata": {},
   "outputs": [],
   "source": [
    "postal_codes_subset = postal_codes.iloc[:,[2,4,5,6,7,8,26,27,28,29]]"
   ]
  },
  {
   "cell_type": "code",
   "execution_count": null,
   "metadata": {},
   "outputs": [],
   "source": [
    "postal_codes_subset.head()"
   ]
  },
  {
   "cell_type": "code",
   "execution_count": null,
   "metadata": {},
   "outputs": [],
   "source": [
    "# Save the datatable\n",
    "postal_codes_subset.to_csv('postal_codes.csv', index=False)"
   ]
  }
 ],
 "metadata": {
  "language_info": {
   "name": "python"
  }
 },
 "nbformat": 4,
 "nbformat_minor": 2
}
