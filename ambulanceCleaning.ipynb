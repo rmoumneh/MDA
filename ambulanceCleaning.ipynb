{
 "cells": [
  {
   "cell_type": "code",
   "execution_count": 12,
   "metadata": {},
   "outputs": [
    {
     "ename": "ModuleNotFoundError",
     "evalue": "No module named 'pivottablejs'",
     "output_type": "error",
     "traceback": [
      "\u001b[1;31m---------------------------------------------------------------------------\u001b[0m",
      "\u001b[1;31mModuleNotFoundError\u001b[0m                       Traceback (most recent call last)",
      "Cell \u001b[1;32mIn[12], line 10\u001b[0m\n\u001b[0;32m      8\u001b[0m \u001b[38;5;28;01mfrom\u001b[39;00m \u001b[38;5;21;01mshapely\u001b[39;00m\u001b[38;5;21;01m.\u001b[39;00m\u001b[38;5;21;01mops\u001b[39;00m \u001b[38;5;28;01mimport\u001b[39;00m nearest_points\n\u001b[0;32m      9\u001b[0m \u001b[38;5;28;01mfrom\u001b[39;00m \u001b[38;5;21;01mdatetime\u001b[39;00m \u001b[38;5;28;01mimport\u001b[39;00m datetime, timedelta, date\n\u001b[1;32m---> 10\u001b[0m \u001b[38;5;28;01mimport\u001b[39;00m \u001b[38;5;21;01mpivottablejs\u001b[39;00m \u001b[38;5;28;01mas\u001b[39;00m \u001b[38;5;21;01mpvt\u001b[39;00m\n\u001b[0;32m     11\u001b[0m \u001b[38;5;28;01mimport\u001b[39;00m \u001b[38;5;21;01mmath\u001b[39;00m\n",
      "\u001b[1;31mModuleNotFoundError\u001b[0m: No module named 'pivottablejs'"
     ]
    }
   ],
   "source": [
    "#Import package\n",
    "import pandas as pd\n",
    "import numpy as np\n",
    "from geopy.geocoders import Nominatim\n",
    "import matplotlib\n",
    "from geopy.distance import geodesic\n",
    "from shapely.geometry import Point, MultiPoint\n",
    "from shapely.ops import nearest_points\n",
    "from datetime import datetime, timedelta, date\n",
    "import pivottablejs as pvt\n",
    "import math"
   ]
  },
  {
   "cell_type": "code",
   "execution_count": 8,
   "metadata": {},
   "outputs": [
    {
     "data": {
      "text/html": [
       "<div>\n",
       "<style scoped>\n",
       "    .dataframe tbody tr th:only-of-type {\n",
       "        vertical-align: middle;\n",
       "    }\n",
       "\n",
       "    .dataframe tbody tr th {\n",
       "        vertical-align: top;\n",
       "    }\n",
       "\n",
       "    .dataframe thead th {\n",
       "        text-align: right;\n",
       "    }\n",
       "</style>\n",
       "<table border=\"1\" class=\"dataframe\">\n",
       "  <thead>\n",
       "    <tr style=\"text-align: right;\">\n",
       "      <th></th>\n",
       "      <th>postcode,smun_code,reg_code,prov_code,arr_code,mun_code,Region,Province,Arrondissement,Municipality</th>\n",
       "    </tr>\n",
       "  </thead>\n",
       "  <tbody>\n",
       "    <tr>\n",
       "      <th>0</th>\n",
       "      <td>3211,24066B,02000,20001,24000,24066,Flanders,V...</td>\n",
       "    </tr>\n",
       "    <tr>\n",
       "      <th>1</th>\n",
       "      <td>1910,23038A,02000,20001,23000,23038,Flanders,V...</td>\n",
       "    </tr>\n",
       "    <tr>\n",
       "      <th>2</th>\n",
       "      <td>9120,46003A,02000,40000,46000,46003,Flanders,O...</td>\n",
       "    </tr>\n",
       "    <tr>\n",
       "      <th>3</th>\n",
       "      <td>9520,41063A,02000,40000,41000,41063,Flanders,O...</td>\n",
       "    </tr>\n",
       "    <tr>\n",
       "      <th>4</th>\n",
       "      <td>9667,45062B,02000,40000,45000,45062,Flanders,O...</td>\n",
       "    </tr>\n",
       "  </tbody>\n",
       "</table>\n",
       "</div>"
      ],
      "text/plain": [
       "  postcode,smun_code,reg_code,prov_code,arr_code,mun_code,Region,Province,Arrondissement,Municipality\n",
       "0  3211,24066B,02000,20001,24000,24066,Flanders,V...                                                 \n",
       "1  1910,23038A,02000,20001,23000,23038,Flanders,V...                                                 \n",
       "2  9120,46003A,02000,40000,46000,46003,Flanders,O...                                                 \n",
       "3  9520,41063A,02000,40000,41000,41063,Flanders,O...                                                 \n",
       "4  9667,45062B,02000,40000,45000,45062,Flanders,O...                                                 "
      ]
     },
     "execution_count": 8,
     "metadata": {},
     "output_type": "execute_result"
    }
   ],
   "source": [
    "# - Import data -\n",
    "ambulances = pd.read_parquet('ambulance_locations.parquet.gzip')\n",
    "postal_codes_subset = pd.read_csv('postal_codes.csv', sep=',')\n",
    "# ERROR, why ?\n",
    "postal_codes_subset.head()"
   ]
  },
  {
   "cell_type": "code",
   "execution_count": null,
   "metadata": {},
   "outputs": [],
   "source": [
    "# ambulances\n",
    "ambulances.head()\n",
    "ambulances_cl=ambulances.copy()\n",
    "\n",
    "regions = {'Brussels Hoofdstedelijk Gewest':'Brussels','Vlaams Gewest':'Flanders','Waals Gewest':'Wallonia','null':'null'}\n",
    "ambulances_cl['region']=ambulances_cl['region'].map(regions)\n",
    "\n",
    "for column in ambulances_cl.columns:\n",
    "    if ambulances_cl[column].dtype=='str':\n",
    "        ambulances_cl[column]=ambulances_cl[column].str.title().str.strip()\n",
    "    else:\n",
    "        ambulances_cl[column]=ambulances_cl[column]      \n",
    "  \n",
    "for index, row in ambulances_cl.iterrows():\n",
    "    item = row['departure_location']\n",
    "    strings = item.split()\n",
    "    ambulances_cl.at[index,'departure_municipality']=item.split()[-1].title()\n",
    "    for string in strings:\n",
    "        if (len(string) == 4) and (string.isdigit()):\n",
    "            ambulances_cl.at[index, 'departure_postalcode'] = string    \n",
    "\n",
    "ambulances_all = pd.merge(ambulances_cl,postal_codes_subset, left_on = 'departure_postalcode', right_on = 'postcode', how ='left')\n",
    "for a, b in zip(ambulances_all.columns, range(0,len(ambulances_all.columns))):\n",
    "                print(f'{a}, column number {b}')\n",
    "\n",
    "ambulances_subset = ambulances_all.iloc[:,[0,2,3,4,5,6,7,9,10,17,18,19]]\n",
    "ambulances_subset.head()"
   ]
  },
  {
   "cell_type": "code",
   "execution_count": null,
   "metadata": {},
   "outputs": [],
   "source": [
    "ambulances_subset.to_csv('ambulances.csv', index=False)"
   ]
  },
  {
   "cell_type": "code",
   "execution_count": 2,
   "metadata": {},
   "outputs": [],
   "source": [
    "ambulances_df = pd.read_excel('ambulancesV2.xlsx')"
   ]
  },
  {
   "cell_type": "code",
   "execution_count": 27,
   "metadata": {},
   "outputs": [
    {
     "name": "stdout",
     "output_type": "stream",
     "text": [
      "a\n"
     ]
    }
   ],
   "source": [
    "import csv\n",
    "import string\n",
    "\n",
    "input_file = open('ambulances.csv', 'r')\n",
    "output_file = open('ambulances2.csv', 'w')\n",
    "data = csv.reader(input_file)\n",
    "writer = csv.writer(output_file)\n",
    "specials = \"a\"\n",
    "print(specials)\n",
    "\n",
    "# for line in data:\n",
    "#     line = str(line)\n",
    "#     new_line = str.replace(line,specials,'')\n",
    "#     writer.writerow(new_line.split(','))\n",
    "\n",
    "for line in data:\n",
    "    line = [value.replace(specials, '') for value in line]\n",
    "    writer.writerow(line)\n",
    "\n",
    "input_file.close()\n",
    "output_file.close()"
   ]
  },
  {
   "cell_type": "code",
   "execution_count": 24,
   "metadata": {},
   "outputs": [
    {
     "data": {
      "text/html": [
       "<div>\n",
       "<style scoped>\n",
       "    .dataframe tbody tr th:only-of-type {\n",
       "        vertical-align: middle;\n",
       "    }\n",
       "\n",
       "    .dataframe tbody tr th {\n",
       "        vertical-align: top;\n",
       "    }\n",
       "\n",
       "    .dataframe thead th {\n",
       "        text-align: right;\n",
       "    }\n",
       "</style>\n",
       "<table border=\"1\" class=\"dataframe\">\n",
       "  <thead>\n",
       "    <tr style=\"text-align: right;\">\n",
       "      <th></th>\n",
       "      <th>base,province,region,departure_location,departure_location_number,latitude,longitude,departure_municipality,departure_postalcode,Region,Province,Arrondissement</th>\n",
       "    </tr>\n",
       "  </thead>\n",
       "  <tbody>\n",
       "    <tr>\n",
       "      <th>0</th>\n",
       "      <td>BA ANTW [Borgerhout] AMBUCE,Antwerpen,Flanders...</td>\n",
       "    </tr>\n",
       "    <tr>\n",
       "      <th>1</th>\n",
       "      <td>BA ANTW [Hoboken] AMBUCE,Antwerpen,Flanders,An...</td>\n",
       "    </tr>\n",
       "    <tr>\n",
       "      <th>2</th>\n",
       "      <td>BA ANTW [Hof Ter Schelde] AC Antwerpen,Antwerp...</td>\n",
       "    </tr>\n",
       "    <tr>\n",
       "      <th>3</th>\n",
       "      <td>BA ANTW [Kaai 606] SIHWA,Antwerpen,Flanders,An...</td>\n",
       "    </tr>\n",
       "    <tr>\n",
       "      <th>4</th>\n",
       "      <td>BA ANTW [Sint Elisabeth] AC Antwerpen,Antwerpe...</td>\n",
       "    </tr>\n",
       "  </tbody>\n",
       "</table>\n",
       "</div>"
      ],
      "text/plain": [
       "  base,province,region,departure_location,departure_location_number,latitude,longitude,departure_municipality,departure_postalcode,Region,Province,Arrondissement\n",
       "0  BA ANTW [Borgerhout] AMBUCE,Antwerpen,Flanders...                                                                                                             \n",
       "1  BA ANTW [Hoboken] AMBUCE,Antwerpen,Flanders,An...                                                                                                             \n",
       "2  BA ANTW [Hof Ter Schelde] AC Antwerpen,Antwerp...                                                                                                             \n",
       "3  BA ANTW [Kaai 606] SIHWA,Antwerpen,Flanders,An...                                                                                                             \n",
       "4  BA ANTW [Sint Elisabeth] AC Antwerpen,Antwerpe...                                                                                                             "
      ]
     },
     "execution_count": 24,
     "metadata": {},
     "output_type": "execute_result"
    }
   ],
   "source": [
    "ambulances_df = pd.read_csv('ambulances.csv', sep=',')\n",
    "#not working, why ?\n",
    "ambulances_df.head()"
   ]
  },
  {
   "cell_type": "code",
   "execution_count": null,
   "metadata": {},
   "outputs": [],
   "source": []
  },
  {
   "cell_type": "code",
   "execution_count": 3,
   "metadata": {},
   "outputs": [
    {
     "name": "stdout",
     "output_type": "stream",
     "text": [
      "0    POINT (51.2155158 4.4437875)\n",
      "1    POINT (51.1788314 4.3619482)\n",
      "2     POINT (51.2328096 4.377237)\n",
      "3    POINT (51.3155156 4.3215063)\n",
      "4    POINT (51.2136226 4.4057177)\n",
      "5      POINT (51.319819 5.089912)\n",
      "6    POINT (51.3209834 4.8566561)\n",
      "7    POINT (51.1140555 4.6472462)\n",
      "8    POINT (51.4646726 4.4725507)\n",
      "9     POINT (51.0430641 4.815907)\n",
      "Name: PointCoordonate, dtype: object\n"
     ]
    },
    {
     "name": "stderr",
     "output_type": "stream",
     "text": [
      "C:\\Users\\Ramy\\AppData\\Local\\Temp\\ipykernel_21688\\3066386475.py:6: SettingWithCopyWarning: \n",
      "A value is trying to be set on a copy of a slice from a DataFrame.\n",
      "Try using .loc[row_indexer,col_indexer] = value instead\n",
      "\n",
      "See the caveats in the documentation: https://pandas.pydata.org/pandas-docs/stable/user_guide/indexing.html#returning-a-view-versus-a-copy\n",
      "  amb_df['coordonate'] = list(zip(amb_df.latitude, amb_df.longitude))\n",
      "C:\\Users\\Ramy\\AppData\\Local\\Temp\\ipykernel_21688\\3066386475.py:21: SettingWithCopyWarning: \n",
      "A value is trying to be set on a copy of a slice from a DataFrame.\n",
      "Try using .loc[row_indexer,col_indexer] = value instead\n",
      "\n",
      "See the caveats in the documentation: https://pandas.pydata.org/pandas-docs/stable/user_guide/indexing.html#returning-a-view-versus-a-copy\n",
      "  amb_df['PointCoordonate'] = amb_df.apply(lambda x: Point(x['latitude'], x['longitude']), axis=1)\n"
     ]
    },
    {
     "data": {
      "text/html": [
       "<div>\n",
       "<style scoped>\n",
       "    .dataframe tbody tr th:only-of-type {\n",
       "        vertical-align: middle;\n",
       "    }\n",
       "\n",
       "    .dataframe tbody tr th {\n",
       "        vertical-align: top;\n",
       "    }\n",
       "\n",
       "    .dataframe thead th {\n",
       "        text-align: right;\n",
       "    }\n",
       "</style>\n",
       "<table border=\"1\" class=\"dataframe\">\n",
       "  <thead>\n",
       "    <tr style=\"text-align: right;\">\n",
       "      <th></th>\n",
       "      <th>base</th>\n",
       "      <th>latitude</th>\n",
       "      <th>longitude</th>\n",
       "      <th>Arrondissement</th>\n",
       "      <th>coordonate</th>\n",
       "      <th>PointCoordonate</th>\n",
       "    </tr>\n",
       "  </thead>\n",
       "  <tbody>\n",
       "    <tr>\n",
       "      <th>277</th>\n",
       "      <td>BF SART BHN AMBU</td>\n",
       "      <td>50.56418</td>\n",
       "      <td>4.490704</td>\n",
       "      <td>Nivelles</td>\n",
       "      <td>(50.5641805, 4.4907038)</td>\n",
       "      <td>POINT (50.5641805 4.4907038)</td>\n",
       "    </tr>\n",
       "  </tbody>\n",
       "</table>\n",
       "</div>"
      ],
      "text/plain": [
       "                 base  latitude  longitude Arrondissement  \\\n",
       "277  BF SART BHN AMBU  50.56418   4.490704       Nivelles   \n",
       "\n",
       "                  coordonate               PointCoordonate  \n",
       "277  (50.5641805, 4.4907038)  POINT (50.5641805 4.4907038)  "
      ]
     },
     "execution_count": 3,
     "metadata": {},
     "output_type": "execute_result"
    }
   ],
   "source": [
    "# Nearest Neighbour\n",
    "# 1. Clean a bit more ambulance dataframe\n",
    "ambulances_df.head(10)\n",
    "amb_df = ambulances_df[['base','latitude','longitude','Arrondissement']]\n",
    "# Create a Tuple 'coordonate' from latitude and longitude\n",
    "amb_df['coordonate'] = list(zip(amb_df.latitude, amb_df.longitude))\n",
    "amb_df['coordonate'].head(10)\n",
    "amb_df.head(10)\n",
    "\n",
    "from shapely.geometry import Point, MultiPoint\n",
    "from shapely.ops import nearest_points\n",
    "\n",
    "# 2. Create a list of coordonate (amb_list) \n",
    "# and a Mulitpoint of coordonate (departures)\n",
    "# for Nearest Neighbour method\n",
    "amb_list = amb_df['coordonate'].tolist() # TODO into function !!\n",
    "departures= MultiPoint(amb_list)\n",
    "# print(departures)\n",
    "\n",
    "# Make to coordonate Tuple into Point\n",
    "amb_df['PointCoordonate'] = amb_df.apply(lambda x: Point(x['latitude'], x['longitude']), axis=1)\n",
    "print(amb_df['PointCoordonate'].head(10))\n",
    "\n",
    "# Test\n",
    "testpoint = Point(50.5641805, 4.4907038)\n",
    "amb_df.loc[amb_df['PointCoordonate'] == testpoint]\n",
    "# print((testpoint.x,testpoint.y))\n",
    "\n",
    "# # EXAMPLE NN method\n",
    "# orig = Point(50.5,4.5)\n",
    "# nearest_depart = nearest_points(orig, departures)\n",
    "# near_idx0 = nearest_depart[0]\n",
    "# near_idx1 = nearest_depart[1]\n",
    "# print(nearest_depart)\n",
    "# print(near_idx0)\n",
    "# print(near_idx1)\n",
    "\n",
    "# Adding new ambulance to the list of departures\n",
    "# departures.append([Point(newCoordonate)])"
   ]
  },
  {
   "cell_type": "code",
   "execution_count": null,
   "metadata": {},
   "outputs": [],
   "source": [
    "# Nearest Neighbour\n",
    "# 1. Clean a bit more ambulance dataframe\n",
    "ambulances_df.head(10)\n",
    "amb_df = ambulances_df[['base','latitude','longitude','Arrondissement']]\n",
    "# Create a Tuple 'coordonate' from latitude and longitude\n",
    "amb_df['coordonate'] = list(zip(amb_df.latitude, amb_df.longitude))\n",
    "amb_df['coordonate'].head(10)\n",
    "amb_df.head(10)\n",
    "\n",
    "from shapely.geometry import Point, MultiPoint\n",
    "from shapely.ops import nearest_points\n",
    "\n",
    "# 2. Create a list of coordonate (amb_list) \n",
    "# and a Mulitpoint of coordonate (departures)\n",
    "# for Nearest Neighbour method\n",
    "amb_list = amb_df['coordonate'].tolist() # TODO into function !!\n",
    "departures= MultiPoint(amb_list)\n",
    "# print(departures)\n",
    "\n",
    "# Make to coordonate Tuple into Point\n",
    "amb_df['PointCoordonate'] = amb_df.apply(lambda x: Point(x['latitude'], x['longitude']), axis=1)\n",
    "print(amb_df['PointCoordonate'].head(10))\n",
    "\n",
    "# Test\n",
    "testpoint = Point(50.5641805, 4.4907038)\n",
    "amb_df.loc[amb_df['PointCoordonate'] == testpoint]\n",
    "# print((testpoint.x,testpoint.y))"
   ]
  },
  {
   "cell_type": "code",
   "execution_count": null,
   "metadata": {},
   "outputs": [],
   "source": [
    "from shapely.geometry import Point, MultiPoint\n",
    "from shapely.ops import nearest_points\n",
    "\n",
    "def create_coorodnate_multipoint(data_columns):\n",
    "    \"\"\"\n",
    "    Take a column of coordonate date (latitude,longitude) and return a Mulitpoint\n",
    "\n",
    "    Input:\n",
    "        data columns of coodonate (latitude,longitude)\n",
    "    Output:\n",
    "        Multipoint of coorodnates\n",
    "    \"\"\"\n",
    "    data_list = data_columns.tolist()\n",
    "    data_multipoint = MultiPoint(data_list)\n",
    "    return data_multipoint\n",
    "\n",
    "def coorodnate_column(dataframe, data_latitude, data_longitude):\n",
    "    \"\"\"\n",
    "    Add a 'coordonate' column in the dataframe based on the its latitude and longitude columns\n",
    "\n",
    "    Input :\n",
    "        column of latitude data (exemple: dataframe.latitude)\n",
    "        column of longitude data (exemple: dataframe.longitude)\n",
    "    \n",
    "    Ouput :\n",
    "        None\n",
    "    \"\"\"\n",
    "    dataframe['coordonate'] = list(zip(data_latitude, data_longitude))"
   ]
  }
 ],
 "metadata": {
  "kernelspec": {
   "display_name": "Python 3",
   "language": "python",
   "name": "python3"
  },
  "language_info": {
   "codemirror_mode": {
    "name": "ipython",
    "version": 3
   },
   "file_extension": ".py",
   "mimetype": "text/x-python",
   "name": "python",
   "nbconvert_exporter": "python",
   "pygments_lexer": "ipython3",
   "version": "3.9.13"
  }
 },
 "nbformat": 4,
 "nbformat_minor": 2
}
